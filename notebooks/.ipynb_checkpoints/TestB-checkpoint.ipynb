{
 "cells": [
  {
   "cell_type": "code",
   "execution_count": null,
   "id": "3a5c95a6",
   "metadata": {},
   "outputs": [],
   "source": [
    "import numpy as np"
   ]
  },
  {
   "cell_type": "code",
   "execution_count": 4,
   "id": "37c33460",
   "metadata": {},
   "outputs": [
    {
     "name": "stdout",
     "output_type": "stream",
     "text": [
      "535\n"
     ]
    }
   ],
   "source": [
    "a = 0\n",
    "with open(\"../datos/datos.csv\",\"r\") as f1:\n",
    "    with open(\"../datos/datosB_V2.csv\", \"w\") as f2:\n",
    "        for linea in f1:\n",
    "            ln = linea.replace(\", \", \"; \")\n",
    "            f2.write(ln)\n",
    "            a+=1\n",
    "print(a)"
   ]
  }
 ],
 "metadata": {
  "kernelspec": {
   "display_name": "Python 3 (ipykernel)",
   "language": "python",
   "name": "python3"
  },
  "language_info": {
   "codemirror_mode": {
    "name": "ipython",
    "version": 3
   },
   "file_extension": ".py",
   "mimetype": "text/x-python",
   "name": "python",
   "nbconvert_exporter": "python",
   "pygments_lexer": "ipython3",
   "version": "3.8.13"
  }
 },
 "nbformat": 4,
 "nbformat_minor": 5
}
